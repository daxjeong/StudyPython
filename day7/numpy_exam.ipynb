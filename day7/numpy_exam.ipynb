{
 "cells": [
  {
   "cell_type": "code",
   "execution_count": 3,
   "metadata": {},
   "outputs": [
    {
     "data": {
      "text/plain": [
       "array([[0., 0., 0., 0.],\n",
       "       [0., 0., 0., 0.],\n",
       "       [0., 0., 0., 0.]])"
      ]
     },
     "execution_count": 3,
     "metadata": {},
     "output_type": "execute_result"
    }
   ],
   "source": [
    "import numpy as np\n",
    "x = np.zeros((3,4))\n",
    "x"
   ]
  },
  {
   "cell_type": "code",
   "execution_count": 5,
   "metadata": {},
   "outputs": [
    {
     "data": {
      "text/plain": [
       "array([[0., 0., 0., 0.],\n",
       "       [0., 0., 0., 0.],\n",
       "       [0., 0., 0., 0.]])"
      ]
     },
     "execution_count": 5,
     "metadata": {},
     "output_type": "execute_result"
    }
   ],
   "source": [
    "# 1)\n",
    "x[0][0] = 0; x[0][1] = 0; x[0][2] = 0; x[0][3] = 0\n",
    "x[1][0] = 0; x[1][1] = 0; x[1][2] = 0; x[1][3] = 0\n",
    "x[2][0] = 0; x[2][1] = 0; x[2][2] = 0; x[2][3] = 0\n",
    "\n",
    "# 2)\n",
    "for i in range(3):\n",
    "    x[i][0]=0; x[i][1]=0; x[i][2]=0; x[i][3]=0;\n",
    "\n",
    "# 3)\n",
    "for i in range(3):\n",
    "    for j in range(4):\n",
    "        x[i][j] = 0\n",
    "\n",
    "x"
   ]
  },
  {
   "cell_type": "markdown",
   "metadata": {},
   "source": [
    "### Numpy 연산"
   ]
  },
  {
   "cell_type": "code",
   "execution_count": 16,
   "metadata": {},
   "outputs": [
    {
     "data": {
      "text/plain": [
       "738"
      ]
     },
     "execution_count": 16,
     "metadata": {},
     "output_type": "execute_result"
    }
   ],
   "source": [
    "x = [[22,3,4],[4,5,700]] # 2 * 3\n",
    "np.sum(x)\n",
    "# np.array(x).sum()"
   ]
  },
  {
   "cell_type": "code",
   "execution_count": 14,
   "metadata": {},
   "outputs": [
    {
     "data": {
      "text/plain": [
       "list"
      ]
     },
     "execution_count": 14,
     "metadata": {},
     "output_type": "execute_result"
    }
   ],
   "source": [
    "type(x)\n",
    "# Error : AttributeError: 'list' object has no attribute 'sum'\n",
    "# x.sum() \n",
    "# 리스트 형태는 np. 형태로 써줘야지 연산 가능"
   ]
  },
  {
   "cell_type": "code",
   "execution_count": null,
   "metadata": {},
   "outputs": [],
   "source": [
    "# 인공신경망(인공지능)은 x값*w값의 합산이 y값과 최대한 차이가 나지않게 하는 w값 찾기"
   ]
  },
  {
   "cell_type": "code",
   "execution_count": 38,
   "metadata": {},
   "outputs": [],
   "source": [
    "x = np.array([[22,3,4],[4,5,70]])\n",
    "# [1번사람[x1,x2,x3], \n",
    "#  2번사람[x1,x2,x3]] # x1을 몸무게, x2를 나이, x3를 수명량\n",
    "y = np.array([100, 150]) # 1번 사람 혈압이 100, 2번 사람 혈압이 150일 때\n",
    "w = np.array([3, 5, 8]) # x1의 w값 3, x2의 w값 5, x3의 w값 8\n"
   ]
  },
  {
   "cell_type": "code",
   "execution_count": 40,
   "metadata": {},
   "outputs": [
    {
     "data": {
      "text/plain": [
       "array([[ 66,  15,  32],\n",
       "       [ 12,  25, 560]])"
      ]
     },
     "execution_count": 40,
     "metadata": {},
     "output_type": "execute_result"
    }
   ],
   "source": [
    "x*w \n",
    "#([22*3,3*5,4*8], [2*3,2*5,3*8])"
   ]
  },
  {
   "cell_type": "code",
   "execution_count": 54,
   "metadata": {},
   "outputs": [
    {
     "data": {
      "text/plain": [
       "[113, 597]"
      ]
     },
     "execution_count": 54,
     "metadata": {},
     "output_type": "execute_result"
    }
   ],
   "source": [
    "y1 = x*w\n",
    "\n",
    "y_hat=[] # 빈 리스트 만들고 시작하기\n",
    "for i in y1:\n",
    "    y_hat.append(i.sum())\n",
    "y_hat # 예측값"
   ]
  },
  {
   "cell_type": "code",
   "execution_count": 53,
   "metadata": {},
   "outputs": [
    {
     "data": {
      "text/plain": [
       "array([ 13, 447])"
      ]
     },
     "execution_count": 53,
     "metadata": {},
     "output_type": "execute_result"
    }
   ],
   "source": [
    "y_hat - y"
   ]
  },
  {
   "cell_type": "markdown",
   "metadata": {},
   "source": [
    "- NA : 값이 기록되지 않았거나 관측되지 않은 경우 데이터에 저장되는 값으로 '결측치'"
   ]
  },
  {
   "cell_type": "markdown",
   "metadata": {},
   "source": [
    "### 리스트 컴프리헨션(List Comprehension)"
   ]
  },
  {
   "cell_type": "code",
   "execution_count": 70,
   "metadata": {},
   "outputs": [
    {
     "data": {
      "text/plain": [
       "[113, 597]"
      ]
     },
     "execution_count": 70,
     "metadata": {},
     "output_type": "execute_result"
    }
   ],
   "source": [
    "y_hat=[]\n",
    "for i in y1:\n",
    "    y_hat.append(i.sum())\n",
    "\n",
    "y_hat"
   ]
  },
  {
   "cell_type": "code",
   "execution_count": 68,
   "metadata": {},
   "outputs": [
    {
     "data": {
      "text/plain": [
       "[113, 597]"
      ]
     },
     "execution_count": 68,
     "metadata": {},
     "output_type": "execute_result"
    }
   ],
   "source": [
    "y_hat = [i.sum() for i in y1]\n",
    "y_hat"
   ]
  },
  {
   "cell_type": "markdown",
   "metadata": {},
   "source": [
    "요약)\n",
    "- glob와 os.listdir로 폴더 내의 자료를 리스트화 할 수 있음\n",
    "- numpy 모듈을 이용하여 배열간 연산이 가능\n",
    "- PIL모듈을 이용하여 이미지 관련 연산이 가능\n",
    "(배열로 바꾸지 않아도 됨, PIL모듈 기능 중 필요한 기능만 응용할 수 있으면 됨)\n",
    "- 리스트는 빈 리스트를 만들고 append하는 과정을 압축하여 표현"
   ]
  }
 ],
 "metadata": {
  "interpreter": {
   "hash": "e5bc2cf9d9a3d85fb4b9cf5c2acdd222f933ac2e5b2df75a3f82eb3e684a5541"
  },
  "kernelspec": {
   "display_name": "Python 3.10.1 64-bit",
   "language": "python",
   "name": "python3"
  },
  "language_info": {
   "codemirror_mode": {
    "name": "ipython",
    "version": 3
   },
   "file_extension": ".py",
   "mimetype": "text/x-python",
   "name": "python",
   "nbconvert_exporter": "python",
   "pygments_lexer": "ipython3",
   "version": "3.10.1"
  },
  "orig_nbformat": 4
 },
 "nbformat": 4,
 "nbformat_minor": 2
}
