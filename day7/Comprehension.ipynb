{
 "cells": [
  {
   "cell_type": "markdown",
   "metadata": {},
   "source": [
    "< 교재 참고> \n",
    "- 람다함수 p.467~\n",
    "- p. 470 map 함수\n",
    "- p. 555 예외처리\n",
    "- p. 570~583 이터레이터 + 압축기법"
   ]
  },
  {
   "cell_type": "markdown",
   "metadata": {},
   "source": [
    "- 이터레이터(Iterator)\n",
    ": 파이썬에서 반복자는 여러개의 요소를 가지는 컨테이너(리스트, 튜플, 셋, 사전, 문자열)에서 \n",
    "각 요소를 하나씩 꺼내 어떤 처리를 수행하는 간편한 방법을 제공하는 객체"
   ]
  },
  {
   "cell_type": "markdown",
   "metadata": {},
   "source": [
    "### 리스트 컴프리헨션(List Comprehension)"
   ]
  },
  {
   "cell_type": "code",
   "execution_count": 1,
   "metadata": {},
   "outputs": [],
   "source": [
    "# 1) 리스트 생성하기\n",
    "numbers = []\n",
    "for n in range(1, 10+1):\n",
    "    numbers.append(n)"
   ]
  },
  {
   "cell_type": "code",
   "execution_count": 2,
   "metadata": {},
   "outputs": [
    {
     "data": {
      "text/plain": [
       "[0, 1, 2, 3, 4, 5, 6, 7, 8, 9]"
      ]
     },
     "execution_count": 2,
     "metadata": {},
     "output_type": "execute_result"
    }
   ],
   "source": [
    "# 위의 구문을 아래와 같이 사용가능\n",
    "[x for x in range(10)]"
   ]
  },
  {
   "cell_type": "code",
   "execution_count": 10,
   "metadata": {},
   "outputs": [
    {
     "data": {
      "text/plain": [
       "[0, 10, 20, 30, 40, 50, 60, 70, 80, 90]"
      ]
     },
     "execution_count": 10,
     "metadata": {},
     "output_type": "execute_result"
    }
   ],
   "source": [
    "[x*10 for x in range(10)]"
   ]
  },
  {
   "cell_type": "code",
   "execution_count": 3,
   "metadata": {},
   "outputs": [
    {
     "data": {
      "text/plain": [
       "[2, 4, 6, 8, 10]"
      ]
     },
     "execution_count": 3,
     "metadata": {},
     "output_type": "execute_result"
    }
   ],
   "source": [
    "# 2) 조건걸기\n",
    "# ① 오른쪽에 if문 사용\n",
    "even_numbers = []\n",
    "for n in range(1, 10+1):\n",
    "    if n % 2 == 0:\n",
    "        even_numbers.append(n)\n",
    "even_numbers"
   ]
  },
  {
   "cell_type": "code",
   "execution_count": 4,
   "metadata": {},
   "outputs": [
    {
     "data": {
      "text/plain": [
       "[2, 4, 6, 8, 10]"
      ]
     },
     "execution_count": 4,
     "metadata": {},
     "output_type": "execute_result"
    }
   ],
   "source": [
    "[x for x in range(1, 10+1) if x % 2 == 0]"
   ]
  },
  {
   "cell_type": "code",
   "execution_count": 20,
   "metadata": {},
   "outputs": [
    {
     "data": {
      "text/plain": [
       "['odd', 'odd', 3, 'odd', 'odd', 6, 'odd', 'odd', 9]"
      ]
     },
     "execution_count": 20,
     "metadata": {},
     "output_type": "execute_result"
    }
   ],
   "source": [
    "# ② 왼쪽에 if문 사용(else 같이 사용)\n",
    "[y if y % 3 == 0 else 'odd' for y in range(1, 10) ]"
   ]
  },
  {
   "cell_type": "code",
   "execution_count": 29,
   "metadata": {},
   "outputs": [
    {
     "data": {
      "text/plain": [
       "[0, 'odd-1', 2, 'odd-3', 4]"
      ]
     },
     "execution_count": 29,
     "metadata": {},
     "output_type": "execute_result"
    }
   ],
   "source": [
    "[i if i % 2 == 0 else 'odd-1' if i == 1 else 'odd-3' for i in range(5)]\n",
    "\n",
    "#  i가 2로 나누어 떨어지면 그대로 출력하고, \n",
    "#  1일 때는 'odd-1'을 출력하고 그렇지 않은 경우는 3밖에 남지 않으므로, 3일 때 'odd-3'이 출력"
   ]
  },
  {
   "cell_type": "code",
   "execution_count": 23,
   "metadata": {},
   "outputs": [
    {
     "data": {
      "text/plain": [
       "[(0, 0), (0, 1), (0, 2), (1, 0), (1, 1), (1, 2)]"
      ]
     },
     "execution_count": 23,
     "metadata": {},
     "output_type": "execute_result"
    }
   ],
   "source": [
    "# for문 2개 사용\n",
    "li=[]\n",
    "for i in range(2):\n",
    "    for j in range(3):\n",
    "        li.append((i,j))\n",
    "\n",
    "[(i,j)for i in range(2) for j in range(3)]"
   ]
  },
  {
   "cell_type": "code",
   "execution_count": 15,
   "metadata": {},
   "outputs": [
    {
     "data": {
      "text/plain": [
       "['0ab', '1ab', '2ab', '3ab', '4ab']"
      ]
     },
     "execution_count": 15,
     "metadata": {},
     "output_type": "execute_result"
    }
   ],
   "source": [
    "# 함수 적용\n",
    "def test(x):\n",
    "    x = str(x)+'ab'\n",
    "    return x\n",
    " \n",
    "[test(i) for i in range(5)]"
   ]
  }
 ],
 "metadata": {
  "interpreter": {
   "hash": "e5bc2cf9d9a3d85fb4b9cf5c2acdd222f933ac2e5b2df75a3f82eb3e684a5541"
  },
  "kernelspec": {
   "display_name": "Python 3.10.1 64-bit",
   "language": "python",
   "name": "python3"
  },
  "language_info": {
   "codemirror_mode": {
    "name": "ipython",
    "version": 3
   },
   "file_extension": ".py",
   "mimetype": "text/x-python",
   "name": "python",
   "nbconvert_exporter": "python",
   "pygments_lexer": "ipython3",
   "version": "3.10.1"
  },
  "orig_nbformat": 4
 },
 "nbformat": 4,
 "nbformat_minor": 2
}
