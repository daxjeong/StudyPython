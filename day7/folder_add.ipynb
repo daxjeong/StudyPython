{
 "cells": [
  {
   "cell_type": "markdown",
   "metadata": {},
   "source": [
    "## 폴더 및 파일 경로 확인"
   ]
  },
  {
   "cell_type": "code",
   "execution_count": 14,
   "metadata": {},
   "outputs": [
    {
     "name": "stdout",
     "output_type": "stream",
     "text": [
      ".\\eee\n",
      ".\\eee복사본\n",
      ".\\folder_add.ipynb\n",
      ".\\numpy.ipynb\n",
      ".\\pic\n",
      ".\\pic복사본\n"
     ]
    }
   ],
   "source": [
    "# 현재 .py 코드가 저장된 경로의 모든 파일을 불러오기\n",
    "import os, glob \n",
    "\n",
    "# glob() : 인자로 받은 패턴과 이름이 일치하는 모든 파일과 디렉터리의 리스트를 반환\n",
    "filter(os.path.isdir, glob.glob(\"./*\")) # * : 모든 파일과 디렉터리를 볼 수 있음\n",
    "dataList = glob.glob(\"./*\") # 카멜표기법\n",
    "for x in dataList: # 객체 할당(파이썬만 갖고 있는 장점, 속도가 빠름)\n",
    "    print(x)"
   ]
  },
  {
   "cell_type": "code",
   "execution_count": 15,
   "metadata": {},
   "outputs": [
    {
     "name": "stdout",
     "output_type": "stream",
     "text": [
      ".\\eee\n",
      ".\\eee복사본\n",
      ".\\folder_add.ipynb\n",
      ".\\numpy.ipynb\n",
      ".\\pic\n",
      ".\\pic복사본\n"
     ]
    }
   ],
   "source": [
    "for x in range(len(dataList)): # 인덱스 할당\n",
    "    print(dataList[x])"
   ]
  },
  {
   "cell_type": "code",
   "execution_count": 16,
   "metadata": {},
   "outputs": [
    {
     "name": "stdout",
     "output_type": "stream",
     "text": [
      ".\n",
      "\\\n",
      "e\n",
      "e\n",
      "e\n",
      "복\n",
      "사\n",
      "본\n"
     ]
    }
   ],
   "source": [
    "# find() : 파이썬 문자열 찾기\n",
    "\n",
    "x1 = dataList[1]\n",
    "\n",
    "for i in x1:\n",
    "    print(i)"
   ]
  },
  {
   "cell_type": "code",
   "execution_count": 17,
   "metadata": {},
   "outputs": [
    {
     "name": "stdout",
     "output_type": "stream",
     "text": [
      "파일\n"
     ]
    }
   ],
   "source": [
    "if '.' in x1:\n",
    "    print('파일')\n",
    "else:\n",
    "    print('폴더')"
   ]
  },
  {
   "cell_type": "code",
   "execution_count": 18,
   "metadata": {},
   "outputs": [
    {
     "data": {
      "text/plain": [
       "['.\\\\eee', '.\\\\eee복사본', '.\\\\pic', '.\\\\pic복사본']"
      ]
     },
     "execution_count": 18,
     "metadata": {},
     "output_type": "execute_result"
    }
   ],
   "source": [
    "# 폴더와 파일이 같이 있을 때 그 중 폴더만 리스트로 하고자 한다면\n",
    "# dataList의 형식이 .\\폴더명, .\\파일명. 확장자로 되어 있어서 그 중 맨 앞의 .\\를 제외한 자료에서\n",
    "folderList=[]\n",
    "for x in dataList:\n",
    "    if '.' not in x[2:]: # 맨 앞의 '.\\'를 제외한 자료에 .이 없다면 폴더로 인식하겠다.\n",
    "        folderList.append(x)\n",
    "\n",
    "folderList"
   ]
  },
  {
   "cell_type": "code",
   "execution_count": 19,
   "metadata": {},
   "outputs": [
    {
     "data": {
      "text/plain": [
       "['', '\\\\eee복사본']"
      ]
     },
     "execution_count": 19,
     "metadata": {},
     "output_type": "execute_result"
    }
   ],
   "source": [
    "# split() : 문자열 나누기\n",
    "folderList = []\n",
    "\n",
    "dataList[0].split('.')\n",
    "dataList[1].split('.')"
   ]
  },
  {
   "cell_type": "markdown",
   "metadata": {},
   "source": [
    "- if x.split('.')[1] == 'jpg' #참고 확장자에 대한 정보가 jpg라면"
   ]
  },
  {
   "cell_type": "code",
   "execution_count": 20,
   "metadata": {},
   "outputs": [
    {
     "data": {
      "text/plain": [
       "['.\\\\eee', '.\\\\eee복사본', '.\\\\pic', '.\\\\pic복사본']"
      ]
     },
     "execution_count": 20,
     "metadata": {},
     "output_type": "execute_result"
    }
   ],
   "source": [
    "folderList = []\n",
    "for x in dataList:\n",
    "    if len(x.split('.')) == 2:\n",
    "        folderList.append(x)\n",
    "\n",
    "folderList"
   ]
  },
  {
   "cell_type": "code",
   "execution_count": 23,
   "metadata": {},
   "outputs": [
    {
     "data": {
      "text/plain": [
       "'./pic복사본'"
      ]
     },
     "execution_count": 23,
     "metadata": {},
     "output_type": "execute_result"
    }
   ],
   "source": [
    "# copyfile, copy, copy2 함수 : 파이썬 폴더 복사하기\n",
    "import shutil\n",
    "\n",
    "# 폴더 복사\n",
    "folderName = './pic'\n",
    "newName = folderName +'복사본'\n",
    "shutil.copytree(folderName, newName) # copytree(원본, 복사되는 이름(새로생김))"
   ]
  },
  {
   "cell_type": "code",
   "execution_count": null,
   "metadata": {},
   "outputs": [],
   "source": [
    "# 폴더와 파일 중에 폴더만 가져와서 새로운 폴더이름으로 복사하겠다.\n",
    "folderList=['./pic','./eee'] # 본인 폴더명\n",
    "\n",
    "for folderName in folderList:\n",
    "    newName = folderName +'복사본'\n",
    "    shutil.copytree(folderName, newName)"
   ]
  },
  {
   "cell_type": "code",
   "execution_count": null,
   "metadata": {},
   "outputs": [],
   "source": [
    "## 하고자 하는 작업을 나열\n",
    "shutil.copytree('./pic', './pic복사본')\n",
    "shutil.copytree('./eee', './eee복사본')\n",
    "\n",
    "# 1) 변수로 치환\n",
    "folderName = './pic'; newName = './pic' +'복사본'\n",
    "shutil.copytree(folderName, newName)\n",
    "folderName = './eee'; newName = './eee' +'복사본'\n",
    "shutil.copytree(folderName, newName)\n",
    "\n",
    "# 2) 변수명을 리스트로 변경\n",
    "folderList=['./pic','./eee']\n",
    "forderName = folderList[0]; newName = folderList[0] + '복사본'\n",
    "shutil.copytree(folderName, newName)\n",
    "\n",
    "forderName = folderList[1]; newName = folderList[1] + '복사본'\n",
    "shutil.copytree(folderName, newName)\n",
    "\n",
    "# 3) for로\n",
    "folderList=['./pic','./eee']\n",
    "for folderName in folderList:\n",
    "    newName = folderName +'복사본'\n",
    "    shutil.copytree(folderName, newName)"
   ]
  },
  {
   "cell_type": "markdown",
   "metadata": {},
   "source": [
    "- \"filetype:pdf numpy\" (filetype:pdf + '내용' : 참고 Document)"
   ]
  }
 ],
 "metadata": {
  "interpreter": {
   "hash": "e5bc2cf9d9a3d85fb4b9cf5c2acdd222f933ac2e5b2df75a3f82eb3e684a5541"
  },
  "kernelspec": {
   "display_name": "Python 3.10.1 64-bit",
   "language": "python",
   "name": "python3"
  },
  "language_info": {
   "codemirror_mode": {
    "name": "ipython",
    "version": 3
   },
   "file_extension": ".py",
   "mimetype": "text/x-python",
   "name": "python",
   "nbconvert_exporter": "python",
   "pygments_lexer": "ipython3",
   "version": "3.10.1"
  },
  "orig_nbformat": 4
 },
 "nbformat": 4,
 "nbformat_minor": 2
}
